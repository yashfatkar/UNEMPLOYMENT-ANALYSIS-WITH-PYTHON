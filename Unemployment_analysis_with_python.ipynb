{
  "nbformat": 4,
  "nbformat_minor": 0,
  "metadata": {
    "colab": {
      "private_outputs": true,
      "provenance": []
    },
    "kernelspec": {
      "name": "python3",
      "display_name": "Python 3"
    },
    "language_info": {
      "name": "python"
    }
  },
  "cells": [
    {
      "cell_type": "markdown",
      "source": [
        "## PROBLEM STATEMENT"
      ],
      "metadata": {
        "id": "pf_-7cDfsTRy"
      }
    },
    {
      "cell_type": "markdown",
      "source": [
        "Unemployment is measured by the unemployment rate which is the number of people\n",
        "who are unemployed as a percentage of the total labour force. We have seen a sharp\n",
        "increase in the unemployment rate during Covid-19, so analyzing the unemployment rate\n",
        "can be a good data science projeCT."
      ],
      "metadata": {
        "id": "Rmx5OjTxs-ge"
      }
    },
    {
      "cell_type": "markdown",
      "source": [
        "## Import the Libraries"
      ],
      "metadata": {
        "id": "PyotJb6MtEBl"
      }
    },
    {
      "cell_type": "code",
      "execution_count": null,
      "metadata": {
        "id": "L_duhwdXUanb"
      },
      "outputs": [],
      "source": [
        "import numpy as np\n",
        "import pandas as pd\n",
        "import matplotlib.pyplot as plt\n",
        "import seaborn as sns\n",
        "import plotly .express as px"
      ]
    },
    {
      "cell_type": "markdown",
      "source": [
        "## Loading the dataset"
      ],
      "metadata": {
        "id": "Ac76Yg2ktKAl"
      }
    },
    {
      "cell_type": "code",
      "source": [
        "data = pd.read_csv('/content/Unemployment in India.csv')\n",
        "data"
      ],
      "metadata": {
        "id": "b4B-IsQrU0k9"
      },
      "execution_count": null,
      "outputs": []
    },
    {
      "cell_type": "code",
      "source": [
        "# checking dataset information\n",
        "data.info()"
      ],
      "metadata": {
        "id": "2V--JR3pYXND"
      },
      "execution_count": null,
      "outputs": []
    },
    {
      "cell_type": "code",
      "source": [
        "# describing the dataset\n",
        "data.describe()"
      ],
      "metadata": {
        "id": "vyA3Klu-YeID"
      },
      "execution_count": null,
      "outputs": []
    },
    {
      "cell_type": "code",
      "source": [
        "# check null/missing values\n",
        "data.isnull().sum()"
      ],
      "metadata": {
        "id": "9gJ4KP3tYsdL"
      },
      "execution_count": null,
      "outputs": []
    },
    {
      "cell_type": "code",
      "source": [
        "# rename columns\n",
        "data.columns = ['States','Date','Frequency','Estimated Unemployment Rate',\n",
        "                'Estimated Employed','Estimated Labour Participation Rate',\n",
        "                'Region','Longitude','Latitude']"
      ],
      "metadata": {
        "id": "7221DKKSYuui"
      },
      "execution_count": null,
      "outputs": []
    },
    {
      "cell_type": "code",
      "source": [
        "# analysing top rows of dataset\n",
        "data.head()"
      ],
      "metadata": {
        "id": "Uf1XYpN4ZPb-"
      },
      "execution_count": null,
      "outputs": []
    },
    {
      "cell_type": "markdown",
      "source": [
        "## CHECKING THE CORRELATION BETWEEN THE FEATURE OF DATASET"
      ],
      "metadata": {
        "id": "j83TmcbkuC19"
      }
    },
    {
      "cell_type": "code",
      "source": [
        "print(locals())"
      ],
      "metadata": {
        "id": "stnzQUeXHdDO"
      },
      "execution_count": null,
      "outputs": []
    },
    {
      "cell_type": "code",
      "source": [
        "ax = plt.gca()"
      ],
      "metadata": {
        "id": "qVbC-naaG9JO"
      },
      "execution_count": null,
      "outputs": []
    },
    {
      "cell_type": "code",
      "source": [
        "# plotting correlation heatmap\n",
        "\n",
        "plt.style.use('seaborn-whitegrid')\n",
        "plt.figure(figsize=(8,6))\n",
        "\n",
        "# Set tick parameters\n",
        "ax.tick_params(size=10,color='w',labelsize=10, labelcolor='w')\n",
        "\n",
        "# Compute the correlation matrix and plot the heatmap\n",
        "sns.heatmap(data.corr(), annot=True,linewidth=3, ax=ax)\n",
        "\n",
        "plt.show()"
      ],
      "metadata": {
        "id": "TBQBbj-BHlcP"
      },
      "execution_count": null,
      "outputs": []
    },
    {
      "cell_type": "code",
      "source": [],
      "metadata": {
        "id": "3cp4lux2Hq3n"
      },
      "execution_count": null,
      "outputs": []
    },
    {
      "cell_type": "markdown",
      "source": [
        "## Estimated no of employee according to different region of india"
      ],
      "metadata": {
        "id": "3xNU9o47vT-s"
      }
    },
    {
      "cell_type": "code",
      "source": [
        "# plotting histplot\n",
        "\n",
        "data.columns=['States','Date','Frequency','Estimated Unemployment Rate',\n",
        "                'Estimated Employed','Estimated Labour Participation Rate',\n",
        "                'Region','Longitude','Latitude']\n",
        "plt.title('Indian Unemployment')\n",
        "sns.histplot(x='Estimated Employed',hue='Region',data=data)\n",
        "plt.show()"
      ],
      "metadata": {
        "id": "wBGXHk_guvWU"
      },
      "execution_count": null,
      "outputs": []
    },
    {
      "cell_type": "markdown",
      "source": [
        "## Unemployment rate according to different regions of india"
      ],
      "metadata": {
        "id": "l6LEyaaivZl4"
      }
    },
    {
      "cell_type": "code",
      "source": [
        "# plotting histplot\n",
        "\n",
        "plt.figure(figsize=(10,8))\n",
        "plt.title(\"Indian Unemployment\")\n",
        "sns.histplot(x=\"Estimated Unemployment Rate\",hue='Region',data=data)\n",
        "plt.show()"
      ],
      "metadata": {
        "id": "TCtHLIzLyP5M"
      },
      "execution_count": null,
      "outputs": []
    },
    {
      "cell_type": "code",
      "source": [
        "# dashboard to analyze the unemployment rate of each indian state"
      ],
      "metadata": {
        "id": "FEtFScdGydzB"
      },
      "execution_count": null,
      "outputs": []
    },
    {
      "cell_type": "markdown",
      "source": [
        "## Dashboard to analyze the unemployment rate of each Indian state"
      ],
      "metadata": {
        "id": "7XQGH-vOvgi0"
      }
    },
    {
      "cell_type": "code",
      "source": [
        "# plotting sunburst\n",
        "\n",
        "unemployment = data[['States','Region','Estimated Unemployment Rate']]\n",
        "figure = px.sunburst(unemployment,path=['Region','States'],\n",
        "                     values='Estimated Unemployment Rate',\n",
        "                     width=700,height=600, color_continuous_scale='RdY1Gn',\n",
        "                     title=\"Unemployment Rate in India\")\n",
        "figure.show()"
      ],
      "metadata": {
        "id": "sGOk80FMypb5"
      },
      "execution_count": null,
      "outputs": []
    },
    {
      "cell_type": "code",
      "source": [],
      "metadata": {
        "id": "xQgATiTTzyQr"
      },
      "execution_count": null,
      "outputs": []
    }
  ]
}